{
 "cells": [
  {
   "cell_type": "markdown",
   "metadata": {},
   "source": [
    "Hello, I am trying to display some statistics for OIS and SOFR rates in ths section."
   ]
  },
  {
   "cell_type": "code",
   "execution_count": null,
   "metadata": {},
   "outputs": [],
   "source": [
    "import numpy as np\n",
    "import pandas as pd"
   ]
  },
  {
   "cell_type": "code",
   "execution_count": 5,
   "metadata": {},
   "outputs": [
    {
     "name": "stdout",
     "output_type": "stream",
     "text": [
      "[[-1.85082305  0.07971733  0.64729173  1.18430621 -0.13561641]\n",
      " [ 1.77830281  0.61908793  0.3817487   1.12847838 -1.16638173]\n",
      " [ 0.52822434 -1.19053342  1.0047015  -0.40164692 -0.85443783]\n",
      " [-0.55876506  0.2331296  -1.15853137 -1.13460206 -0.27620831]\n",
      " [-1.72787116 -1.63703718  1.20467635  0.37045518 -0.74128934]]\n"
     ]
    }
   ],
   "source": [
    "\n",
    "A = np.random.randn(5,5)\n",
    "\n",
    "print A"
   ]
  },
  {
   "cell_type": "code",
   "execution_count": null,
   "metadata": {},
   "outputs": [],
   "source": [
    "THen I am going to save this now....\n"
   ]
  }
 ],
 "metadata": {
  "kernelspec": {
   "display_name": "Python 2",
   "language": "python",
   "name": "python2"
  },
  "language_info": {
   "codemirror_mode": {
    "name": "ipython",
    "version": 2
   },
   "file_extension": ".py",
   "mimetype": "text/x-python",
   "name": "python",
   "nbconvert_exporter": "python",
   "pygments_lexer": "ipython2",
   "version": "2.7.15"
  }
 },
 "nbformat": 4,
 "nbformat_minor": 2
}
